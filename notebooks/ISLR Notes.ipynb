{
 "cells": [
  {
   "cell_type": "code",
   "execution_count": 1,
   "metadata": {},
   "outputs": [
    {
     "name": "stderr",
     "output_type": "stream",
     "text": [
      "C:\\Users\\DE786\\Anaconda3\\lib\\site-packages\\statsmodels\\tsa\\base\\tsa_model.py:7: FutureWarning: pandas.Int64Index is deprecated and will be removed from pandas in a future version. Use pandas.Index with the appropriate dtype instead.\n",
      "  from pandas import (to_datetime, Int64Index, DatetimeIndex, Period,\n",
      "C:\\Users\\DE786\\Anaconda3\\lib\\site-packages\\statsmodels\\tsa\\base\\tsa_model.py:7: FutureWarning: pandas.Float64Index is deprecated and will be removed from pandas in a future version. Use pandas.Index with the appropriate dtype instead.\n",
      "  from pandas import (to_datetime, Int64Index, DatetimeIndex, Period,\n"
     ]
    }
   ],
   "source": [
    "import numpy as np\n",
    "import pandas as pd\n",
    "import os\n",
    "import statsmodels.api as sm\n",
    "from sklearn.linear_model import LinearRegression"
   ]
  },
  {
   "cell_type": "code",
   "execution_count": 2,
   "metadata": {},
   "outputs": [
    {
     "data": {
      "text/plain": [
       "'C:\\\\Users\\\\DE786\\\\general_documentation\\\\intro_stat_learning\\\\notebooks'"
      ]
     },
     "execution_count": 2,
     "metadata": {},
     "output_type": "execute_result"
    }
   ],
   "source": [
    "os.getcwd()"
   ]
  },
  {
   "cell_type": "code",
   "execution_count": 2,
   "metadata": {},
   "outputs": [],
   "source": [
    "data_path = os.getcwd()\n",
    "input_path = r'C:\\Users\\ImTob\\OneDrive\\Desktop\\Actuarial prep\\Exams\\MAS1 Prep\\intro_stat_learning\\input'\n",
    "os.chdir(input_path)"
   ]
  },
  {
   "cell_type": "code",
   "execution_count": 3,
   "metadata": {},
   "outputs": [
    {
     "name": "stdout",
     "output_type": "stream",
     "text": [
      " Volume in drive C is Windows\n",
      " Volume Serial Number is 3C13-43C3\n",
      "\n",
      " Directory of C:\\Users\\ImTob\\OneDrive\\Desktop\\Actuarial prep\\Exams\\MAS1 Prep\\intro_stat_learning\\input\n",
      "\n",
      "07/20/2022  12:48 PM    <DIR>          .\n",
      "07/20/2022  12:48 PM    <DIR>          ..\n",
      "07/20/2022  12:48 PM             6,148 .DS_Store\n",
      "07/20/2022  12:48 PM             4,555 Advertising.csv\n",
      "07/20/2022  12:48 PM            17,681 Auto.csv\n",
      "07/20/2022  12:48 PM            30,293 Auto.data\n",
      "07/20/2022  12:48 PM           626,999 Bikeshare.csv\n",
      "07/20/2022  12:48 PM            34,309 Boston.csv\n",
      "07/20/2022  12:48 PM             5,650 BrainCancer.csv\n",
      "07/20/2022  12:48 PM         1,030,640 Caravan.csv\n",
      "07/20/2022  12:48 PM            19,445 Carseats.csv\n",
      "07/20/2022  12:48 PM           403,088 Ch12Ex13.csv\n",
      "07/20/2022  12:48 PM            78,848 College.csv\n",
      "07/20/2022  12:48 PM            17,776 Credit.csv\n",
      "07/20/2022  12:48 PM           443,675 Default.csv\n",
      "07/20/2022  12:48 PM         1,782,131 Fund.csv\n",
      "07/20/2022  12:48 PM            19,925 Heart.csv\n",
      "07/20/2022  12:48 PM            22,878 Hitters.csv\n",
      "07/20/2022  12:48 PM             1,146 Income1.csv\n",
      "07/20/2022  12:48 PM             1,613 Income2.csv\n",
      "07/20/2022  12:48 PM            78,162 OJ.csv\n",
      "07/20/2022  12:48 PM             3,739 Portfolio.csv\n",
      "07/20/2022  12:48 PM            12,105 Publication.csv\n",
      "07/20/2022  12:48 PM            71,715 Smarket.csv\n",
      "07/20/2022  12:48 PM           438,195 Wage.csv\n",
      "07/20/2022  12:48 PM            63,773 Weekly.csv\n",
      "              24 File(s)      5,214,489 bytes\n",
      "               2 Dir(s)  52,417,585,152 bytes free\n"
     ]
    }
   ],
   "source": [
    "ls"
   ]
  },
  {
   "cell_type": "code",
   "execution_count": 4,
   "metadata": {},
   "outputs": [
    {
     "data": {
      "text/plain": [
       "<AxesSubplot:xlabel='Education', ylabel='Income'>"
      ]
     },
     "execution_count": 4,
     "metadata": {},
     "output_type": "execute_result"
    },
    {
     "data": {
      "image/png": "[encoded data removed]",
      "text/plain": [
       "<Figure size 432x288 with 1 Axes>"
      ]
     },
     "metadata": {
      "needs_background": "light"
     },
     "output_type": "display_data"
    }
   ],
   "source": [
    "# df = pd.read_csv('Advertising.csv')\n",
    "df = pd.read_csv('Income2.csv')\n",
    "df.drop(['Unnamed: 0'],axis=1,inplace=True)\n",
    "df.plot(x='Education',y='Income',kind='scatter')"
   ]
  },
  {
   "cell_type": "code",
   "execution_count": 5,
   "metadata": {},
   "outputs": [
    {
     "data": {
      "text/plain": [
       "(-50.08563875473378, array([5.89555596, 0.17285547]))"
      ]
     },
     "execution_count": 5,
     "metadata": {},
     "output_type": "execute_result"
    }
   ],
   "source": [
    "from sklearn.linear_model import LinearRegression\n",
    "lin_reg = LinearRegression()\n",
    "lin_reg.fit(df[['Education','Seniority']], df['Income'])\n",
    "lin_reg.intercept_, lin_reg.coef_"
   ]
  },
  {
   "cell_type": "code",
   "execution_count": 26,
   "metadata": {
    "scrolled": true
   },
   "outputs": [
    {
     "data": {
      "text/plain": [
       "(2.9388893694594067, array([ 0.04576465,  0.18853002, -0.00103749]))"
      ]
     },
     "execution_count": 26,
     "metadata": {},
     "output_type": "execute_result"
    }
   ],
   "source": [
    "df = pd.read_csv('Advertising.csv')\n",
    "df.drop(['Unnamed: 0'],axis=1,inplace=True)\n",
    "lin_reg = LinearRegression()\n",
    "lin_reg.fit(df[['TV','radio','newspaper']], df['sales'])\n",
    "lin_reg.intercept_, lin_reg.coef_"
   ]
  },
  {
   "cell_type": "code",
   "execution_count": 57,
   "metadata": {},
   "outputs": [
    {
     "data": {
      "text/plain": [
       "0.05480866446583008"
      ]
     },
     "execution_count": 57,
     "metadata": {},
     "output_type": "execute_result"
    }
   ],
   "source": [
    "df.corr().loc['TV','radio']"
   ]
  },
  {
   "cell_type": "code",
   "execution_count": 93,
   "metadata": {},
   "outputs": [
    {
     "data": {
      "text/plain": [
       "LinearRegression(copy_X=True, fit_intercept=True, n_jobs=None, normalize=False)"
      ]
     },
     "execution_count": 93,
     "metadata": {},
     "output_type": "execute_result"
    }
   ],
   "source": [
    "df = pd.read_csv('Credit.csv')\n",
    "df = pd.get_dummies(df)\n",
    "response = 'Balance'\n",
    "predictors = list(set(df.columns) - set([response]))\n",
    "y = df[response]\n",
    "x = df[predictors]\n",
    "lin_reg = LinearRegression()\n",
    "lin_reg.fit(x,y)"
   ]
  },
  {
   "cell_type": "code",
   "execution_count": 94,
   "metadata": {},
   "outputs": [
    {
     "name": "stderr",
     "output_type": "stream",
     "text": [
      "C:\\Users\\ImTob\\anaconda3\\lib\\site-packages\\statsmodels\\tsa\\tsatools.py:130: FutureWarning: In a future version of pandas all arguments of concat except for the argument 'objs' will be keyword-only\n",
      "  x = pd.concat(x[::order], 1)\n"
     ]
    },
    {
     "data": {
      "text/html": [
       "<table class=\"simpletable\">\n",
       "<caption>OLS Regression Results</caption>\n",
       "<tr>\n",
       "  <th>Dep. Variable:</th>         <td>Balance</td>     <th>  R-squared:         </th> <td>   0.955</td> \n",
       "</tr>\n",
       "<tr>\n",
       "  <th>Model:</th>                   <td>OLS</td>       <th>  Adj. R-squared:    </th> <td>   0.954</td> \n",
       "</tr>\n",
       "<tr>\n",
       "  <th>Method:</th>             <td>Least Squares</td>  <th>  F-statistic:       </th> <td>   750.3</td> \n",
       "</tr>\n",
       "<tr>\n",
       "  <th>Date:</th>             <td>Mon, 25 Jul 2022</td> <th>  Prob (F-statistic):</th> <td>1.11e-253</td>\n",
       "</tr>\n",
       "<tr>\n",
       "  <th>Time:</th>                 <td>19:45:48</td>     <th>  Log-Likelihood:    </th> <td> -2398.7</td> \n",
       "</tr>\n",
       "<tr>\n",
       "  <th>No. Observations:</th>      <td>   400</td>      <th>  AIC:               </th> <td>   4821.</td> \n",
       "</tr>\n",
       "<tr>\n",
       "  <th>Df Residuals:</th>          <td>   388</td>      <th>  BIC:               </th> <td>   4869.</td> \n",
       "</tr>\n",
       "<tr>\n",
       "  <th>Df Model:</th>              <td>    11</td>      <th>                     </th>     <td> </td>    \n",
       "</tr>\n",
       "<tr>\n",
       "  <th>Covariance Type:</th>      <td>nonrobust</td>    <th>                     </th>     <td> </td>    \n",
       "</tr>\n",
       "</table>\n",
       "<table class=\"simpletable\">\n",
       "<tr>\n",
       "        <td></td>          <th>coef</th>     <th>std err</th>      <th>t</th>      <th>P>|t|</th>  <th>[0.025</th>    <th>0.975]</th>  \n",
       "</tr>\n",
       "<tr>\n",
       "  <th>const</th>        <td>  -94.2202</td> <td>   12.284</td> <td>   -7.670</td> <td> 0.000</td> <td> -118.372</td> <td>  -70.068</td>\n",
       "</tr>\n",
       "<tr>\n",
       "  <th>Married_Yes</th>  <td>  -51.3771</td> <td>    8.180</td> <td>   -6.281</td> <td> 0.000</td> <td>  -67.460</td> <td>  -35.294</td>\n",
       "</tr>\n",
       "<tr>\n",
       "  <th>Student_No</th>   <td> -259.9838</td> <td>    9.100</td> <td>  -28.570</td> <td> 0.000</td> <td> -277.875</td> <td> -242.093</td>\n",
       "</tr>\n",
       "<tr>\n",
       "  <th>Own_Yes</th>      <td>  -52.4367</td> <td>    7.828</td> <td>   -6.698</td> <td> 0.000</td> <td>  -67.828</td> <td>  -37.045</td>\n",
       "</tr>\n",
       "<tr>\n",
       "  <th>Married_No</th>   <td>  -42.8432</td> <td>    7.889</td> <td>   -5.431</td> <td> 0.000</td> <td>  -58.353</td> <td>  -27.333</td>\n",
       "</tr>\n",
       "<tr>\n",
       "  <th>Education</th>    <td>   -1.0989</td> <td>    1.598</td> <td>   -0.688</td> <td> 0.492</td> <td>   -4.241</td> <td>    2.043</td>\n",
       "</tr>\n",
       "<tr>\n",
       "  <th>Income</th>       <td>   -7.8031</td> <td>    0.234</td> <td>  -33.314</td> <td> 0.000</td> <td>   -8.264</td> <td>   -7.343</td>\n",
       "</tr>\n",
       "<tr>\n",
       "  <th>Age</th>          <td>   -0.6139</td> <td>    0.294</td> <td>   -2.088</td> <td> 0.037</td> <td>   -1.192</td> <td>   -0.036</td>\n",
       "</tr>\n",
       "<tr>\n",
       "  <th>Student_Yes</th>  <td>  165.7636</td> <td>   11.509</td> <td>   14.402</td> <td> 0.000</td> <td>  143.135</td> <td>  188.392</td>\n",
       "</tr>\n",
       "<tr>\n",
       "  <th>Cards</th>        <td>   17.7245</td> <td>    4.341</td> <td>    4.083</td> <td> 0.000</td> <td>    9.190</td> <td>   26.259</td>\n",
       "</tr>\n",
       "<tr>\n",
       "  <th>Region_West</th>  <td>  -23.5730</td> <td>    8.631</td> <td>   -2.731</td> <td> 0.007</td> <td>  -40.542</td> <td>   -6.604</td>\n",
       "</tr>\n",
       "<tr>\n",
       "  <th>Region_East</th>  <td>  -40.3772</td> <td>    9.113</td> <td>   -4.431</td> <td> 0.000</td> <td>  -58.295</td> <td>  -22.459</td>\n",
       "</tr>\n",
       "<tr>\n",
       "  <th>Own_No</th>       <td>  -41.7835</td> <td>    7.957</td> <td>   -5.251</td> <td> 0.000</td> <td>  -57.427</td> <td>  -26.140</td>\n",
       "</tr>\n",
       "<tr>\n",
       "  <th>Limit</th>        <td>    0.1909</td> <td>    0.033</td> <td>    5.824</td> <td> 0.000</td> <td>    0.126</td> <td>    0.255</td>\n",
       "</tr>\n",
       "<tr>\n",
       "  <th>Region_South</th> <td>  -30.2701</td> <td>    7.608</td> <td>   -3.978</td> <td> 0.000</td> <td>  -45.229</td> <td>  -15.311</td>\n",
       "</tr>\n",
       "<tr>\n",
       "  <th>Rating</th>       <td>    1.1365</td> <td>    0.491</td> <td>    2.315</td> <td> 0.021</td> <td>    0.171</td> <td>    2.102</td>\n",
       "</tr>\n",
       "</table>\n",
       "<table class=\"simpletable\">\n",
       "<tr>\n",
       "  <th>Omnibus:</th>       <td>34.899</td> <th>  Durbin-Watson:     </th> <td>   1.968</td>\n",
       "</tr>\n",
       "<tr>\n",
       "  <th>Prob(Omnibus):</th> <td> 0.000</td> <th>  Jarque-Bera (JB):  </th> <td>  41.766</td>\n",
       "</tr>\n",
       "<tr>\n",
       "  <th>Skew:</th>          <td> 0.782</td> <th>  Prob(JB):          </th> <td>8.52e-10</td>\n",
       "</tr>\n",
       "<tr>\n",
       "  <th>Kurtosis:</th>      <td> 3.241</td> <th>  Cond. No.          </th> <td>6.60e+19</td>\n",
       "</tr>\n",
       "</table><br/><br/>Warnings:<br/>[1] Standard Errors assume that the covariance matrix of the errors is correctly specified.<br/>[2] The smallest eigenvalue is 2.56e-30. This might indicate that there are<br/>strong multicollinearity problems or that the design matrix is singular."
      ],
      "text/plain": [
       "<class 'statsmodels.iolib.summary.Summary'>\n",
       "\"\"\"\n",
       "                            OLS Regression Results                            \n",
       "==============================================================================\n",
       "Dep. Variable:                Balance   R-squared:                       0.955\n",
       "Model:                            OLS   Adj. R-squared:                  0.954\n",
       "Method:                 Least Squares   F-statistic:                     750.3\n",
       "Date:                Mon, 25 Jul 2022   Prob (F-statistic):          1.11e-253\n",
       "Time:                        19:45:48   Log-Likelihood:                -2398.7\n",
       "No. Observations:                 400   AIC:                             4821.\n",
       "Df Residuals:                     388   BIC:                             4869.\n",
       "Df Model:                          11                                         \n",
       "Covariance Type:            nonrobust                                         \n",
       "================================================================================\n",
       "                   coef    std err          t      P>|t|      [0.025      0.975]\n",
       "--------------------------------------------------------------------------------\n",
       "const          -94.2202     12.284     -7.670      0.000    -118.372     -70.068\n",
       "Married_Yes    -51.3771      8.180     -6.281      0.000     -67.460     -35.294\n",
       "Student_No    -259.9838      9.100    -28.570      0.000    -277.875    -242.093\n",
       "Own_Yes        -52.4367      7.828     -6.698      0.000     -67.828     -37.045\n",
       "Married_No     -42.8432      7.889     -5.431      0.000     -58.353     -27.333\n",
       "Education       -1.0989      1.598     -0.688      0.492      -4.241       2.043\n",
       "Income          -7.8031      0.234    -33.314      0.000      -8.264      -7.343\n",
       "Age             -0.6139      0.294     -2.088      0.037      -1.192      -0.036\n",
       "Student_Yes    165.7636     11.509     14.402      0.000     143.135     188.392\n",
       "Cards           17.7245      4.341      4.083      0.000       9.190      26.259\n",
       "Region_West    -23.5730      8.631     -2.731      0.007     -40.542      -6.604\n",
       "Region_East    -40.3772      9.113     -4.431      0.000     -58.295     -22.459\n",
       "Own_No         -41.7835      7.957     -5.251      0.000     -57.427     -26.140\n",
       "Limit            0.1909      0.033      5.824      0.000       0.126       0.255\n",
       "Region_South   -30.2701      7.608     -3.978      0.000     -45.229     -15.311\n",
       "Rating           1.1365      0.491      2.315      0.021       0.171       2.102\n",
       "==============================================================================\n",
       "Omnibus:                       34.899   Durbin-Watson:                   1.968\n",
       "Prob(Omnibus):                  0.000   Jarque-Bera (JB):               41.766\n",
       "Skew:                           0.782   Prob(JB):                     8.52e-10\n",
       "Kurtosis:                       3.241   Cond. No.                     6.60e+19\n",
       "==============================================================================\n",
       "\n",
       "Warnings:\n",
       "[1] Standard Errors assume that the covariance matrix of the errors is correctly specified.\n",
       "[2] The smallest eigenvalue is 2.56e-30. This might indicate that there are\n",
       "strong multicollinearity problems or that the design matrix is singular.\n",
       "\"\"\""
      ]
     },
     "execution_count": 94,
     "metadata": {},
     "output_type": "execute_result"
    }
   ],
   "source": [
    "ols = sm.OLS(y,sm.add_constant(x))\n",
    "# ols = sm.OLS(df['sales'],sm.add_constant(df[['TV']]))\n",
    "ols_result = ols.fit()\n",
    "ols_result.summary()"
   ]
  },
  {
   "cell_type": "code",
   "execution_count": 52,
   "metadata": {
    "scrolled": false
   },
   "outputs": [
    {
     "data": {
      "text/html": [
       "<table class=\"simpletable\">\n",
       "<caption>OLS Regression Results</caption>\n",
       "<tr>\n",
       "  <th>Dep. Variable:</th>          <td>sales</td>      <th>  R-squared:         </th> <td>   0.897</td>\n",
       "</tr>\n",
       "<tr>\n",
       "  <th>Model:</th>                   <td>OLS</td>       <th>  Adj. R-squared:    </th> <td>   0.896</td>\n",
       "</tr>\n",
       "<tr>\n",
       "  <th>Method:</th>             <td>Least Squares</td>  <th>  F-statistic:       </th> <td>   570.3</td>\n",
       "</tr>\n",
       "<tr>\n",
       "  <th>Date:</th>             <td>Mon, 25 Jul 2022</td> <th>  Prob (F-statistic):</th> <td>1.58e-96</td>\n",
       "</tr>\n",
       "<tr>\n",
       "  <th>Time:</th>                 <td>15:28:48</td>     <th>  Log-Likelihood:    </th> <td> -386.18</td>\n",
       "</tr>\n",
       "<tr>\n",
       "  <th>No. Observations:</th>      <td>   200</td>      <th>  AIC:               </th> <td>   780.4</td>\n",
       "</tr>\n",
       "<tr>\n",
       "  <th>Df Residuals:</th>          <td>   196</td>      <th>  BIC:               </th> <td>   793.6</td>\n",
       "</tr>\n",
       "<tr>\n",
       "  <th>Df Model:</th>              <td>     3</td>      <th>                     </th>     <td> </td>   \n",
       "</tr>\n",
       "<tr>\n",
       "  <th>Covariance Type:</th>      <td>nonrobust</td>    <th>                     </th>     <td> </td>   \n",
       "</tr>\n",
       "</table>\n",
       "<table class=\"simpletable\">\n",
       "<tr>\n",
       "      <td></td>         <th>coef</th>     <th>std err</th>      <th>t</th>      <th>P>|t|</th>  <th>[0.025</th>    <th>0.975]</th>  \n",
       "</tr>\n",
       "<tr>\n",
       "  <th>const</th>     <td>    2.9389</td> <td>    0.312</td> <td>    9.422</td> <td> 0.000</td> <td>    2.324</td> <td>    3.554</td>\n",
       "</tr>\n",
       "<tr>\n",
       "  <th>TV</th>        <td>    0.0458</td> <td>    0.001</td> <td>   32.809</td> <td> 0.000</td> <td>    0.043</td> <td>    0.049</td>\n",
       "</tr>\n",
       "<tr>\n",
       "  <th>radio</th>     <td>    0.1885</td> <td>    0.009</td> <td>   21.893</td> <td> 0.000</td> <td>    0.172</td> <td>    0.206</td>\n",
       "</tr>\n",
       "<tr>\n",
       "  <th>newspaper</th> <td>   -0.0010</td> <td>    0.006</td> <td>   -0.177</td> <td> 0.860</td> <td>   -0.013</td> <td>    0.011</td>\n",
       "</tr>\n",
       "</table>\n",
       "<table class=\"simpletable\">\n",
       "<tr>\n",
       "  <th>Omnibus:</th>       <td>60.414</td> <th>  Durbin-Watson:     </th> <td>   2.084</td>\n",
       "</tr>\n",
       "<tr>\n",
       "  <th>Prob(Omnibus):</th> <td> 0.000</td> <th>  Jarque-Bera (JB):  </th> <td> 151.241</td>\n",
       "</tr>\n",
       "<tr>\n",
       "  <th>Skew:</th>          <td>-1.327</td> <th>  Prob(JB):          </th> <td>1.44e-33</td>\n",
       "</tr>\n",
       "<tr>\n",
       "  <th>Kurtosis:</th>      <td> 6.332</td> <th>  Cond. No.          </th> <td>    454.</td>\n",
       "</tr>\n",
       "</table><br/><br/>Warnings:<br/>[1] Standard Errors assume that the covariance matrix of the errors is correctly specified."
      ],
      "text/plain": [
       "<class 'statsmodels.iolib.summary.Summary'>\n",
       "\"\"\"\n",
       "                            OLS Regression Results                            \n",
       "==============================================================================\n",
       "Dep. Variable:                  sales   R-squared:                       0.897\n",
       "Model:                            OLS   Adj. R-squared:                  0.896\n",
       "Method:                 Least Squares   F-statistic:                     570.3\n",
       "Date:                Mon, 25 Jul 2022   Prob (F-statistic):           1.58e-96\n",
       "Time:                        15:28:48   Log-Likelihood:                -386.18\n",
       "No. Observations:                 200   AIC:                             780.4\n",
       "Df Residuals:                     196   BIC:                             793.6\n",
       "Df Model:                           3                                         \n",
       "Covariance Type:            nonrobust                                         \n",
       "==============================================================================\n",
       "                 coef    std err          t      P>|t|      [0.025      0.975]\n",
       "------------------------------------------------------------------------------\n",
       "const          2.9389      0.312      9.422      0.000       2.324       3.554\n",
       "TV             0.0458      0.001     32.809      0.000       0.043       0.049\n",
       "radio          0.1885      0.009     21.893      0.000       0.172       0.206\n",
       "newspaper     -0.0010      0.006     -0.177      0.860      -0.013       0.011\n",
       "==============================================================================\n",
       "Omnibus:                       60.414   Durbin-Watson:                   2.084\n",
       "Prob(Omnibus):                  0.000   Jarque-Bera (JB):              151.241\n",
       "Skew:                          -1.327   Prob(JB):                     1.44e-33\n",
       "Kurtosis:                       6.332   Cond. No.                         454.\n",
       "==============================================================================\n",
       "\n",
       "Warnings:\n",
       "[1] Standard Errors assume that the covariance matrix of the errors is correctly specified.\n",
       "\"\"\""
      ]
     },
     "execution_count": 52,
     "metadata": {},
     "output_type": "execute_result"
    }
   ],
   "source": [
    "ols = sm.OLS(df['sales'],sm.add_constant(df[['TV','radio','newspaper']]))\n",
    "# ols = sm.OLS(df['sales'],sm.add_constant(df[['TV']]))\n",
    "ols_result = ols.fit()\n",
    "ols_result.summary()"
   ]
  },
  {
   "cell_type": "code",
   "execution_count": 60,
   "metadata": {},
   "outputs": [
    {
     "data": {
      "text/plain": [
       "<bound method RegressionResults.get_prediction of <statsmodels.regression.linear_model.OLSResults object at 0x00000248433C3EC8>>"
      ]
     },
     "execution_count": 60,
     "metadata": {},
     "output_type": "execute_result"
    }
   ],
   "source": [
    "ols_result.get_prediction"
   ]
  },
  {
   "cell_type": "code",
   "execution_count": 51,
   "metadata": {},
   "outputs": [
    {
     "data": {
      "text/plain": [
       "[2102.5305831313512, 3.2586563686504624]"
      ]
     },
     "execution_count": 51,
     "metadata": {},
     "output_type": "execute_result"
    }
   ],
   "source": [
    "rss = np.sum((ols_result.predict() - df['sales']) ** 2)\n",
    "n = len(df)\n",
    "rse = np.sqrt(1/(n-2) * rss)\n",
    "[rss,rse]"
   ]
  },
  {
   "cell_type": "code",
   "execution_count": 7,
   "metadata": {},
   "outputs": [],
   "source": [
    "df = pd.read_csv('College.csv')\n",
    "df.rename(columns={'Unnamed: 0':'University Name'},inplace=True)\n",
    "# df.set_index('University Name',inplace=True)"
   ]
  },
  {
   "cell_type": "code",
   "execution_count": 18,
   "metadata": {
    "scrolled": true
   },
   "outputs": [
    {
     "data": {
      "text/plain": [
       "<Figure size 432x288 with 0 Axes>"
      ]
     },
     "metadata": {},
     "output_type": "display_data"
    },
    {
     "data": {
      "image/png": "[encoded data removed]",
      "text/plain": [
       "<Figure size 432x288 with 16 Axes>"
      ]
     },
     "metadata": {
      "needs_background": "light"
     },
     "output_type": "display_data"
    }
   ],
   "source": [
    "import matplotlib.pyplot as plt\n",
    "fig = plt.figure()\n",
    "n=4\n",
    "fig, axes = plt.subplots(n,n)\n",
    "for i in range(n):\n",
    "    for j in range(n):\n",
    "        axes[i,j].scatter(df.iloc[:,i+2],df.iloc[:,j+2])"
   ]
  },
  {
   "cell_type": "code",
   "execution_count": 26,
   "metadata": {},
   "outputs": [
    {
     "data": {
      "text/html": [
       "<table class=\"simpletable\">\n",
       "<caption>OLS Regression Results</caption>\n",
       "<tr>\n",
       "  <th>Dep. Variable:</th>         <td>Balance</td>     <th>  R-squared:         </th> <td>   0.754</td> \n",
       "</tr>\n",
       "<tr>\n",
       "  <th>Model:</th>                   <td>OLS</td>       <th>  Adj. R-squared:    </th> <td>   0.752</td> \n",
       "</tr>\n",
       "<tr>\n",
       "  <th>Method:</th>             <td>Least Squares</td>  <th>  F-statistic:       </th> <td>   403.7</td> \n",
       "</tr>\n",
       "<tr>\n",
       "  <th>Date:</th>             <td>Wed, 27 Jul 2022</td> <th>  Prob (F-statistic):</th> <td>4.84e-120</td>\n",
       "</tr>\n",
       "<tr>\n",
       "  <th>Time:</th>                 <td>15:11:10</td>     <th>  Log-Likelihood:    </th> <td> -2739.2</td> \n",
       "</tr>\n",
       "<tr>\n",
       "  <th>No. Observations:</th>      <td>   400</td>      <th>  AIC:               </th> <td>   5486.</td> \n",
       "</tr>\n",
       "<tr>\n",
       "  <th>Df Residuals:</th>          <td>   396</td>      <th>  BIC:               </th> <td>   5502.</td> \n",
       "</tr>\n",
       "<tr>\n",
       "  <th>Df Model:</th>              <td>     3</td>      <th>                     </th>     <td> </td>    \n",
       "</tr>\n",
       "<tr>\n",
       "  <th>Covariance Type:</th>      <td>nonrobust</td>    <th>                     </th>     <td> </td>    \n",
       "</tr>\n",
       "</table>\n",
       "<table class=\"simpletable\">\n",
       "<tr>\n",
       "     <td></td>       <th>coef</th>     <th>std err</th>      <th>t</th>      <th>P>|t|</th>  <th>[0.025</th>    <th>0.975]</th>  \n",
       "</tr>\n",
       "<tr>\n",
       "  <th>const</th>  <td> -259.5175</td> <td>   55.882</td> <td>   -4.644</td> <td> 0.000</td> <td> -369.380</td> <td> -149.655</td>\n",
       "</tr>\n",
       "<tr>\n",
       "  <th>Age</th>    <td>   -2.3458</td> <td>    0.669</td> <td>   -3.508</td> <td> 0.001</td> <td>   -3.660</td> <td>   -1.031</td>\n",
       "</tr>\n",
       "<tr>\n",
       "  <th>Rating</th> <td>    2.3105</td> <td>    0.940</td> <td>    2.459</td> <td> 0.014</td> <td>    0.463</td> <td>    4.158</td>\n",
       "</tr>\n",
       "<tr>\n",
       "  <th>Limit</th>  <td>    0.0190</td> <td>    0.063</td> <td>    0.302</td> <td> 0.763</td> <td>   -0.105</td> <td>    0.143</td>\n",
       "</tr>\n",
       "</table>\n",
       "<table class=\"simpletable\">\n",
       "<tr>\n",
       "  <th>Omnibus:</th>       <td>20.764</td> <th>  Durbin-Watson:     </th> <td>   1.962</td>\n",
       "</tr>\n",
       "<tr>\n",
       "  <th>Prob(Omnibus):</th> <td> 0.000</td> <th>  Jarque-Bera (JB):  </th> <td>  33.727</td>\n",
       "</tr>\n",
       "<tr>\n",
       "  <th>Skew:</th>          <td> 0.360</td> <th>  Prob(JB):          </th> <td>4.74e-08</td>\n",
       "</tr>\n",
       "<tr>\n",
       "  <th>Kurtosis:</th>      <td> 4.227</td> <th>  Cond. No.          </th> <td>2.58e+04</td>\n",
       "</tr>\n",
       "</table><br/><br/>Warnings:<br/>[1] Standard Errors assume that the covariance matrix of the errors is correctly specified.<br/>[2] The condition number is large, 2.58e+04. This might indicate that there are<br/>strong multicollinearity or other numerical problems."
      ],
      "text/plain": [
       "<class 'statsmodels.iolib.summary.Summary'>\n",
       "\"\"\"\n",
       "                            OLS Regression Results                            \n",
       "==============================================================================\n",
       "Dep. Variable:                Balance   R-squared:                       0.754\n",
       "Model:                            OLS   Adj. R-squared:                  0.752\n",
       "Method:                 Least Squares   F-statistic:                     403.7\n",
       "Date:                Wed, 27 Jul 2022   Prob (F-statistic):          4.84e-120\n",
       "Time:                        15:11:10   Log-Likelihood:                -2739.2\n",
       "No. Observations:                 400   AIC:                             5486.\n",
       "Df Residuals:                     396   BIC:                             5502.\n",
       "Df Model:                           3                                         \n",
       "Covariance Type:            nonrobust                                         \n",
       "==============================================================================\n",
       "                 coef    std err          t      P>|t|      [0.025      0.975]\n",
       "------------------------------------------------------------------------------\n",
       "const       -259.5175     55.882     -4.644      0.000    -369.380    -149.655\n",
       "Age           -2.3458      0.669     -3.508      0.001      -3.660      -1.031\n",
       "Rating         2.3105      0.940      2.459      0.014       0.463       4.158\n",
       "Limit          0.0190      0.063      0.302      0.763      -0.105       0.143\n",
       "==============================================================================\n",
       "Omnibus:                       20.764   Durbin-Watson:                   1.962\n",
       "Prob(Omnibus):                  0.000   Jarque-Bera (JB):               33.727\n",
       "Skew:                           0.360   Prob(JB):                     4.74e-08\n",
       "Kurtosis:                       4.227   Cond. No.                     2.58e+04\n",
       "==============================================================================\n",
       "\n",
       "Warnings:\n",
       "[1] Standard Errors assume that the covariance matrix of the errors is correctly specified.\n",
       "[2] The condition number is large, 2.58e+04. This might indicate that there are\n",
       "strong multicollinearity or other numerical problems.\n",
       "\"\"\""
      ]
     },
     "execution_count": 26,
     "metadata": {},
     "output_type": "execute_result"
    }
   ],
   "source": [
    "df = pd.read_csv('Credit.csv')\n",
    "df.dropna(inplace=True)\n",
    "y = df['Balance']\n",
    "x = df[['Age','Rating','Limit']]\n",
    "# x = df[['Age','Limit']]\n",
    "ols = sm.OLS(y,sm.add_constant(x))\n",
    "# ols = sm.OLS(df['sales'],sm.add_constant(df[['TV']]))\n",
    "ols_result = ols.fit()\n",
    "ols_result.summary()"
   ]
  },
  {
   "cell_type": "code",
   "execution_count": 25,
   "metadata": {},
   "outputs": [
    {
     "data": {
      "text/plain": [
       "const      23.802955\n",
       "Age         1.011385\n",
       "Rating    160.668301\n",
       "Limit     160.592880\n",
       "dtype: float64"
      ]
     },
     "execution_count": 25,
     "metadata": {},
     "output_type": "execute_result"
    }
   ],
   "source": [
    "from statsmodels.stats.outliers_influence import variance_inflation_factor\n",
    "x = sm.add_constant(x)\n",
    "pd.Series([variance_inflation_factor(x.values, i) \n",
    "               for i in range(x.shape[1])], \n",
    "              index=x.columns)"
   ]
  }
 ],
 "metadata": {
  "kernelspec": {
   "display_name": "Python 3 (ipykernel)",
   "language": "python",
   "name": "python3"
  },
  "language_info": {
   "codemirror_mode": {
    "name": "ipython",
    "version": 3
   },
   "file_extension": ".py",
   "mimetype": "text/x-python",
   "name": "python",
   "nbconvert_exporter": "python",
   "pygments_lexer": "ipython3",
   "version": "3.9.7"
  }
 },
 "nbformat": 4,
 "nbformat_minor": 4
}
